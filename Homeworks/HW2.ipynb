{
 "cells": [
  {
   "cell_type": "code",
   "execution_count": 1,
   "id": "45dd1d5e",
   "metadata": {},
   "outputs": [
    {
     "name": "stdout",
     "output_type": "stream",
     "text": [
      "**********ATM Access Panel**********\n"
     ]
    },
    {
     "name": "stdin",
     "output_type": "stream",
     "text": [
      "Please enter your user name: begum\n",
      "Please your password: kasapli\n"
     ]
    },
    {
     "name": "stdout",
     "output_type": "stream",
     "text": [
      "Congratulations, you have entered correctly!\n"
     ]
    }
   ],
   "source": [
    "d = {\"begum\":\"kasapli\", \"omer\":\"cengiz\", \"ayse\":\"yilmaz\"}\n",
    "u = list(d.keys())\n",
    "p = list(d.values())\n",
    "\n",
    "print(\"**********ATM Access Panel**********\")\n",
    "\n",
    "user_name = input(\"Please enter your user name:\")\n",
    "password = input(\"Please your password:\")\n",
    "\n",
    "if user_name not in u and password in p:\n",
    "    print(\"Your user name is wrong!\")\n",
    "elif user_name in u and password not in p:\n",
    "    print(\"Your password is wrong!\")\n",
    "elif (user_name not in u and password not in p):\n",
    "    print(\"Your user name and password is wrong!\")\n",
    "else:\n",
    "    print(\"Congratulations, you have entered correctly!\")"
   ]
  }
 ],
 "metadata": {
  "kernelspec": {
   "display_name": "Python 3",
   "language": "python",
   "name": "python3"
  },
  "language_info": {
   "codemirror_mode": {
    "name": "ipython",
    "version": 3
   },
   "file_extension": ".py",
   "mimetype": "text/x-python",
   "name": "python",
   "nbconvert_exporter": "python",
   "pygments_lexer": "ipython3",
   "version": "3.9.4"
  }
 },
 "nbformat": 4,
 "nbformat_minor": 5
}
