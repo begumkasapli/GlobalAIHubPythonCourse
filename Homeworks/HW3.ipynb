{
 "cells": [
  {
   "cell_type": "code",
   "execution_count": 6,
   "id": "1c200593",
   "metadata": {},
   "outputs": [
    {
     "name": "stdin",
     "output_type": "stream",
     "text": [
      "Please enter your name: Öykü\n",
      "Please enter your midterm grade: 80\n",
      "Please enter your project grade: 95\n",
      "Please enter your final grade: 90\n"
     ]
    },
    {
     "name": "stdout",
     "output_type": "stream",
     "text": [
      "Öykü , your passing grade is 88.5 .\n"
     ]
    }
   ],
   "source": [
    "s = input(\"Please enter your name:\")\n",
    "m = float(input(\"Please enter your midterm grade:\"))\n",
    "p = float(input(\"Please enter your project grade:\"))\n",
    "f = float(input(\"Please enter your final grade:\"))\n",
    "if m < 0 or p < 0 or f < 0:\n",
    "    print(\"Invalid Value!\")\n",
    "else:\n",
    "    passing_grade = m * (0.3) + p * (0.3) + f * (0.4)\n",
    "    print(s,\",\", \"your passing grade is\", passing_grade,\".\")"
   ]
  },
  {
   "cell_type": "code",
   "execution_count": 9,
   "id": "e0a32b09",
   "metadata": {},
   "outputs": [
    {
     "data": {
      "text/plain": [
       "{'Begüm': 91.5, 'Kemal': 71.0, 'Mert': 92.5, 'Fırat': 63.0, 'Öykü': 88.5}"
      ]
     },
     "execution_count": 9,
     "metadata": {},
     "output_type": "execute_result"
    }
   ],
   "source": [
    "d = {}\n",
    "d[\"Begüm\"] = 91.5\n",
    "d[\"Kemal\"] = 71.0\n",
    "d[\"Mert\"] = 92.5\n",
    "d[\"Fırat\"] = 63.0\n",
    "d[\"Öykü\"] = 88.5\n",
    "d"
   ]
  },
  {
   "cell_type": "code",
   "execution_count": 21,
   "id": "1d6665fe",
   "metadata": {},
   "outputs": [
    {
     "data": {
      "text/plain": [
       "[91.5, 71.0, 92.5, 63.0, 88.5]"
      ]
     },
     "execution_count": 21,
     "metadata": {},
     "output_type": "execute_result"
    }
   ],
   "source": [
    "grades = list(d.values())\n",
    "grades"
   ]
  },
  {
   "cell_type": "code",
   "execution_count": 27,
   "id": "0101a3e1",
   "metadata": {},
   "outputs": [
    {
     "data": {
      "text/plain": [
       "[92.5, 91.5, 88.5, 71.0, 63.0]"
      ]
     },
     "execution_count": 27,
     "metadata": {},
     "output_type": "execute_result"
    }
   ],
   "source": [
    "grades.sort()\n",
    "grades.reverse()\n",
    "grades"
   ]
  }
 ],
 "metadata": {
  "kernelspec": {
   "display_name": "Python 3",
   "language": "python",
   "name": "python3"
  },
  "language_info": {
   "codemirror_mode": {
    "name": "ipython",
    "version": 3
   },
   "file_extension": ".py",
   "mimetype": "text/x-python",
   "name": "python",
   "nbconvert_exporter": "python",
   "pygments_lexer": "ipython3",
   "version": "3.9.4"
  }
 },
 "nbformat": 4,
 "nbformat_minor": 5
}
