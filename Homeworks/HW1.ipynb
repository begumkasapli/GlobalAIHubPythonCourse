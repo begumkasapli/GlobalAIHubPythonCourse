{
 "cells": [
  {
   "cell_type": "code",
   "execution_count": 5,
   "id": "7657292f",
   "metadata": {},
   "outputs": [
    {
     "data": {
      "text/plain": [
       "[2, 4, 6, 8, 10, 12, 14, 16]"
      ]
     },
     "execution_count": 5,
     "metadata": {},
     "output_type": "execute_result"
    }
   ],
   "source": [
    "#creating list\n",
    "even_numbers = list(range(2,17,2))\n",
    "even_numbers"
   ]
  },
  {
   "cell_type": "code",
   "execution_count": 6,
   "id": "340d27f4",
   "metadata": {},
   "outputs": [
    {
     "data": {
      "text/plain": [
       "[2, 4, 6, 8]"
      ]
     },
     "execution_count": 6,
     "metadata": {},
     "output_type": "execute_result"
    }
   ],
   "source": [
    "#creating first half\n",
    "first_half = even_numbers[:4]\n",
    "first_half"
   ]
  },
  {
   "cell_type": "code",
   "execution_count": 7,
   "id": "39ac9d03",
   "metadata": {},
   "outputs": [
    {
     "data": {
      "text/plain": [
       "[10, 12, 14, 16]"
      ]
     },
     "execution_count": 7,
     "metadata": {},
     "output_type": "execute_result"
    }
   ],
   "source": [
    "#creating second half\n",
    "second_half = even_numbers[4:]\n",
    "second_half"
   ]
  },
  {
   "cell_type": "code",
   "execution_count": 8,
   "id": "f89ae6df",
   "metadata": {},
   "outputs": [
    {
     "data": {
      "text/plain": [
       "[10, 12, 14, 16, 2, 4, 6, 8]"
      ]
     },
     "execution_count": 8,
     "metadata": {},
     "output_type": "execute_result"
    }
   ],
   "source": [
    "#collecting them\n",
    "final_even_numbers = second_half + first_half\n",
    "final_even_numbers"
   ]
  },
  {
   "cell_type": "code",
   "execution_count": 9,
   "id": "3ff212e8",
   "metadata": {},
   "outputs": [
    {
     "name": "stdin",
     "output_type": "stream",
     "text": [
      "Please enter a number: 10\n"
     ]
    },
    {
     "name": "stdout",
     "output_type": "stream",
     "text": [
      "Please enter a single digit number!\n"
     ]
    }
   ],
   "source": [
    "numbers = list(range(0,10))\n",
    "\n",
    "n = input(\"Please enter a number:\")\n",
    "if n not in numbers:\n",
    "    print(\"Please enter a single digit number!\")\n",
    "else:\n",
    "    print(list(range(0,n)))"
   ]
  }
 ],
 "metadata": {
  "kernelspec": {
   "display_name": "Python 3",
   "language": "python",
   "name": "python3"
  },
  "language_info": {
   "codemirror_mode": {
    "name": "ipython",
    "version": 3
   },
   "file_extension": ".py",
   "mimetype": "text/x-python",
   "name": "python",
   "nbconvert_exporter": "python",
   "pygments_lexer": "ipython3",
   "version": "3.9.4"
  }
 },
 "nbformat": 4,
 "nbformat_minor": 5
}
